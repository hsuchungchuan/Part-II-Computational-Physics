{
 "cells": [
  {
   "cell_type": "markdown",
   "metadata": {},
   "source": [
    "# CORE TASK 1: No spin coupling"
   ]
  },
  {
   "cell_type": "markdown",
   "metadata": {},
   "source": [
    "Write a program to construct a lattice and evolve it with time according to the Metropolis‐Hastings algorithm. \n",
    "\n",
    "It is probably simplest to parameterise your functions in terms of the dimensionless quantities 𝛽𝐽 and 𝛽𝜇𝐻.\n",
    "\n",
    "The energy of the 2D Ising system is given by \n",
    "\n",
    "$𝐸 = -𝐽 \\Sigma_i \\Sigma_j 𝑠_i 𝑠_j - 𝜇𝐻 \\Sigma_{i=1}^N 𝑠_i$"
   ]
  },
  {
   "cell_type": "code",
   "execution_count": 15,
   "metadata": {},
   "outputs": [],
   "source": [
    "import numpy as np\n",
    "import random\n",
    "import matplotlib.pyplot as plt"
   ]
  },
  {
   "cell_type": "code",
   "execution_count": 42,
   "metadata": {},
   "outputs": [],
   "source": [
    "# Initialise lattice with a w by w grid, where N is the number of spins given by N = w * w\n",
    "# Here, we initialise with a random spin orientation, where -1 is spin down and 1 is spin up\n",
    "\n",
    "def initialize_random_lattice(w):\n",
    "    return np.random.choice([-1, 1], size=(w, w))\n",
    "\n",
    "def initialise_spinup_lattice(w):\n",
    "    return np.ones((w, w))\n",
    "\n",
    "def initialise_spindown_lattice(w):\n",
    "    return -np.ones((w, w))\n",
    "\n",
    "# Calculate the energy difference of the lattice using the Ising model defined above\n",
    "# The energy is given by the sum of the interaction between neighbouring spins and the external magnetic field\n",
    "# So the energy difference is given by the change in the interaction energy and the change in the external magnetic field energy\n",
    "# Here, lattice[i, j] means the spin at position (i, j). We sum over all spins and their neighbours. \n",
    "# Going clockwise, (i, j-1) is top neighbour, (i+1, j) is right neighbour, , (i, j+1) is bottom neighbour, (i-1, j) is left neighbour\n",
    "# We include modulo % to ensure periodic boundary conditions\n",
    "\n",
    "def calculate_energy_difference(lattice, beta_J, beta_muH):\n",
    "    size = lattice.shape[0]\n",
    "    for i in range(size):\n",
    "        for j in range(size):\n",
    "            beta_delta_energy =  2 * beta_J * lattice[i, j] * (lattice[i, (j-1)%size] + lattice[(i+1)%size, j] + lattice[i, (j+1)%size] + lattice[(i-1)%size, j]) + 2 * beta_muH * lattice[i, j]\n",
    "    return beta_delta_energy\n",
    "\n",
    "# maybe instead of [i,j] can put [random_i,ranodom_j] or something...\n",
    "\n",
    "def spin_flip_metropolis_hastings(lattice, beta_J, beta_muH): #initiate spin flip using metropolis-hastings algorithm\n",
    "    size = lattice.shape[0]\n",
    "    for i in range(size):\n",
    "        for j in range(size):\n",
    "            beta_delta_energy = calculate_energy_difference(lattice, beta_J, beta_muH)\n",
    "            if beta_delta_energy <= 0 or np.random.rand() < min(1,np.exp(-beta_delta_energy)):\n",
    "                lattice[i, j] = -lattice[i, j]\n",
    "    return lattice #give the new lattice after spin flip"
   ]
  },
  {
   "cell_type": "code",
   "execution_count": 70,
   "metadata": {},
   "outputs": [
    {
     "data": {
      "text/plain": [
       "(9, 13)"
      ]
     },
     "execution_count": 70,
     "metadata": {},
     "output_type": "execute_result"
    }
   ],
   "source": [
    "# Need to pick random site to run the algorithm\n",
    "\n",
    "random_i,random_j = np.random.default_rng().integers(0,w,size=2)\n",
    "random_i,random_j"
   ]
  },
  {
   "cell_type": "markdown",
   "metadata": {},
   "source": [
    "### No Coupling\n",
    "\n",
    "Set 𝛽𝐽 = 0 so there is no coupling. In such a case, only thermal motion and the external magnetic field affect the flipping of the spins. Do a few simulations with −3 < 𝛽𝜇𝐻 < 3 and observe what happens by plotting the lattice configuration after 1, 10, 100, 1000, 10,000 and (if you have time) 100,000 “time steps” (you can display the lattice configuration using the matplotlib.pyplot.matshow() function). Try both starting with a random lattice and a lattice with all spins in one direction."
   ]
  },
  {
   "cell_type": "markdown",
   "metadata": {},
   "source": [
    "#### 𝛽𝐽 = 0 and 𝛽𝜇𝐻 = 0\n",
    "\n",
    "We try 𝛽𝐽 = 0 and 𝛽𝜇𝐻 = 0 first to test the model"
   ]
  },
  {
   "cell_type": "code",
   "execution_count": 48,
   "metadata": {},
   "outputs": [],
   "source": [
    "# Set the number of spins and lattice size\n",
    "w = 50 # lattice size\n",
    "beta_J = 0 # beta_interaction energy set to zero here\n",
    "beta_muH = 0 # beta_external magnetic field set to zero here\n",
    "\n",
    "# Set the number of time steps\n",
    "time_steps_value = [1, 5, 100]\n",
    "\n",
    "# Perform simulations for different values of 𝛽𝜇𝐻\n",
    "beta_muH_values = [0]"
   ]
  },
  {
   "cell_type": "code",
   "execution_count": 49,
   "metadata": {},
   "outputs": [
    {
     "name": "stdout",
     "output_type": "stream",
     "text": [
      "Time step: 1 finished simulation.\n",
      "Time step: 10 finished simulation.\n",
      "Time step: 50 finished simulation.\n",
      "Time step: 100 finished simulation.\n",
      "Time step: 500 finished simulation.\n"
     ]
    },
    {
     "data": {
      "image/png": "[encoded data removed]",
      "text/plain": [
       "<Figure size 864x288 with 5 Axes>"
      ]
     },
     "metadata": {
      "needs_background": "light"
     },
     "output_type": "display_data"
    }
   ],
   "source": [
    "# Perform the simulation of evolution of the lattiuce for different time steps\n",
    "\n",
    "# Initialise lattice\n",
    "lattice = initialise_spinup_lattice(w)\n",
    "\n",
    "# Run the simulation and plot\n",
    "fig, ax = plt.subplots(1, len(time_steps_value), figsize=(12, 4))\n",
    "for time_steps in time_steps_value:\n",
    "    for i in range(time_steps):\n",
    "        new_lattice = spin_flip_metropolis_hastings(lattice, beta_J, beta_muH)\n",
    "    plt_index = time_steps_value.index(time_steps)\n",
    "    ax[plt_index].matshow(new_lattice, cmap='gray')\n",
    "    ax[plt_index].set_title('Time step: ' + str(time_steps))\n",
    "    print('Time step: ' + str(time_steps) + ' finished simulation.')"
   ]
  },
  {
   "cell_type": "code",
   "execution_count": 65,
   "metadata": {},
   "outputs": [
    {
     "data": {
      "image/png": "[encoded data removed]",
      "text/plain": [
       "<Figure size 432x288 with 1 Axes>"
      ]
     },
     "metadata": {
      "needs_background": "light"
     },
     "output_type": "display_data"
    }
   ],
   "source": [
    "import numpy as np\n",
    "import matplotlib.pyplot as plt\n",
    "\n",
    "def initialize_system(N):\n",
    "    return np.ones((N, N))\n",
    "\n",
    "def calculate_energy(config, i, j, J, h):\n",
    "    N = len(config)\n",
    "    neighbors_sum = config[(i + 1) % N, j] + config[i, (j + 1) % N] + config[(i - 1) % N, j] + config[i, (j - 1) % N]\n",
    "    return 2 * J * (neighbors_sum + h) * config[i, j]\n",
    "\n",
    "def metropolis_acceptance_probability(delta_E, beta):\n",
    "    return min(1, np.exp(-beta * delta_E))\n",
    "\n",
    "def metropolis_hastings_step(config, beta, J, h):\n",
    "    N = len(config)\n",
    "    \n",
    "    # Choose a random site\n",
    "    i, j = np.random.randint(0, N, size=2)\n",
    "    \n",
    "    # Calculate the energy change\n",
    "    delta_E = calculate_energy(config, i, j, J, h)\n",
    "    \n",
    "    # Acceptance probability\n",
    "    probability_accept = metropolis_acceptance_probability(delta_E, beta)\n",
    "    \n",
    "    # Accept or reject the proposed configuration\n",
    "    if np.random.rand() < probability_accept:\n",
    "        config[i, j] *= -1  # Flip the spin\n",
    "\n",
    "    return config\n",
    "\n",
    "def metropolis_hastings_simulation(N, num_steps, beta, J, h):\n",
    "    config = initialize_system(N)\n",
    "    \n",
    "    for _ in range(num_steps):\n",
    "        metropolis_hastings_step(config, beta, J, h)\n",
    "\n",
    "    return config\n",
    "\n",
    "# Parameters\n",
    "N = 10  # Size of the lattice\n",
    "num_steps = 1  # Number of Metropolis steps\n",
    "beta = 0  # Inverse temperature\n",
    "J = 0  # Coupling constant\n",
    "h = 0.0  # External magnetic field\n",
    "\n",
    "# Run the simulation\n",
    "final_configuration = metropolis_hastings_simulation(N, num_steps, beta, J, h)\n",
    "\n",
    "# Plot the final configuration\n",
    "plt.imshow(final_configuration, cmap='viridis', interpolation='nearest')\n",
    "plt.title('2D Ising Model')\n",
    "plt.show()\n"
   ]
  },
  {
   "cell_type": "code",
   "execution_count": null,
   "metadata": {},
   "outputs": [],
   "source": []
  }
 ],
 "metadata": {
  "kernelspec": {
   "display_name": "Python 3",
   "language": "python",
   "name": "python3"
  },
  "language_info": {
   "codemirror_mode": {
    "name": "ipython",
    "version": 3
   },
   "file_extension": ".py",
   "mimetype": "text/x-python",
   "name": "python",
   "nbconvert_exporter": "python",
   "pygments_lexer": "ipython3",
   "version": "3.9.7"
  }
 },
 "nbformat": 4,
 "nbformat_minor": 2
}
