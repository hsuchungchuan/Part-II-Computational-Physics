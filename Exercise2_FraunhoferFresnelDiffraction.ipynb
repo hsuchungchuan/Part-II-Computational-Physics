{
 "cells": [
  {
   "cell_type": "markdown",
   "metadata": {},
   "source": [
    "# Goal\n",
    "\n",
    "Write a program to calculate the near and far‐field diffraction patterns of an arbitrary one‐dimensional complex aperture using the Fast Fourier Transform technique. Test this program by using simple test apertures (a slit) for which the theoretical pattern is known. Investigate more complicated apertures for which analytical results are difficult to compute."
   ]
  },
  {
   "cell_type": "markdown",
   "metadata": {},
   "source": [
    "# Tasks\n",
    "\n",
    "### Core Task 1\n",
    "\n",
    "Write a program that will calculate the diffraction pattern of a general 1‐dimensional complex aperture in the far field of the aperture using FFT techniques. The program should calculate the intensity in the pattern across the screen, which you should plot using the correct 𝑦 coordinates\n",
    "(in metres or microns for example). Label your coordinates.\n",
    "\n",
    "Test this program for the specific case of a slit in the centre of an otherwise blocked aperture: take the single slit to have width 𝑑 in the centre of an aperture of total extent 𝐿. For definiteness, use 𝜆 = 500nm, 𝑑 = 100𝜇m, 𝐷 = 1.0m and 𝐿 = 5mm. Overlay on your plot the theoretical value of the intensity pattern expected."
   ]
  },
  {
   "cell_type": "markdown",
   "metadata": {},
   "source": []
  }
 ],
 "metadata": {
  "kernelspec": {
   "display_name": "base",
   "language": "python",
   "name": "python3"
  },
  "language_info": {
   "name": "python",
   "version": "3.9.7"
  }
 },
 "nbformat": 4,
 "nbformat_minor": 2
}
