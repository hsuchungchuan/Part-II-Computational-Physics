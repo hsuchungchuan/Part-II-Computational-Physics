{
 "cells": [
  {
   "cell_type": "markdown",
   "metadata": {},
   "source": [
    "# Goal\n",
    "\n",
    "Write a program to calculate the near and far‐field diffraction patterns of an arbitrary one‐dimensional complex aperture using the Fast Fourier Transform technique. Test this program by using simple test apertures (a slit) for which the theoretical pattern is known. Investigate more complicated apertures for which analytical results are difficult to compute."
   ]
  },
  {
   "cell_type": "markdown",
   "metadata": {},
   "source": [
    "# Tasks\n",
    "\n",
    "### Core Task 1\n",
    "\n",
    "Write a program that will calculate the diffraction pattern of a general 1‐dimensional complex aperture in the far field of the aperture using FFT techniques. The program should calculate the intensity in the pattern across the screen, which you should plot using the correct 𝑦 coordinates\n",
    "(in metres or microns for example), where 𝑦 refers to the distance from the centre of the screen.\n",
    "\n",
    "Label your coordinates.\n",
    "\n",
    "Here, we use microns throughout.\n",
    "\n",
    "An illustrtion of the relevant parameters are shown here:"
   ]
  },
  {
   "cell_type": "markdown",
   "metadata": {},
   "source": [
    "![Ex2_Diagram](Exercise2_Diagram.png)"
   ]
  },
  {
   "cell_type": "code",
   "execution_count": 1,
   "metadata": {},
   "outputs": [],
   "source": [
    "# import stuff\n",
    "\n",
    "import numpy as np\n",
    "import matplotlib.pyplot as plt"
   ]
  },
  {
   "cell_type": "code",
   "execution_count": 6,
   "metadata": {},
   "outputs": [],
   "source": [
    "# define a function that calculates the diffraction pattern of a general 1D complex aperture for far field via FFT\n",
    "\n",
    "def calculate_diffraction_intensity_pattern_far_field(aperture, wavelength, distance_to_screen, aperture_full_length):\n",
    "\n",
    "    ## calculate the intensity pattern of the diffraction pattern in the far field\n",
    "    aperture_fft = np.fft.fft(aperture) # calculate the FFT of the aperture\n",
    "    aperture_fft_shifted = np.fft.fftshift(aperture_fft) # shift the FFT to center it\n",
    "    intensity = np.abs(aperture_fft_shifted)**2 # calculate the intensity of the FFT\n",
    "    \n",
    "    ## define the spatial frequency axis for pattern on screen in y\n",
    "    N = len(aperture) # number of points in the aperture\n",
    "    N_freq_sample = np.fft.fftfreq(N) # calculate the spatial frequency axis\n",
    "    N_freq_sample_shifted = np.fft.fftshift(N_freq_sample) # shift the spatial frequency axis to center it\n",
    "    y = N_freq_sample_shifted * wavelength * distance_to_screen / aperture_full_length * N  # scale the intensity pattern to be in units of the spatial frequency\n",
    "\n",
    "    return y, intensity\n"
   ]
  },
  {
   "cell_type": "markdown",
   "metadata": {},
   "source": [
    "Test this program for the specific case of a slit in the centre of an otherwise blocked aperture: take the single slit to have width 𝑑 in the centre of an aperture of total extent 𝐿. For definiteness, use 𝜆 = 500nm, 𝑑 = 100𝜇m, 𝐷 = 1.0m and 𝐿 = 5mm. Overlay on your plot the theoretical value of the intensity pattern expected."
   ]
  },
  {
   "cell_type": "code",
   "execution_count": null,
   "metadata": {},
   "outputs": [],
   "source": []
  }
 ],
 "metadata": {
  "kernelspec": {
   "display_name": "base",
   "language": "python",
   "name": "python3"
  },
  "language_info": {
   "codemirror_mode": {
    "name": "ipython",
    "version": 3
   },
   "file_extension": ".py",
   "mimetype": "text/x-python",
   "name": "python",
   "nbconvert_exporter": "python",
   "pygments_lexer": "ipython3",
   "version": "3.9.7"
  }
 },
 "nbformat": 4,
 "nbformat_minor": 2
}
